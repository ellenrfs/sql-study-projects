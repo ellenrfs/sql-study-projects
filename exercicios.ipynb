{
 "cells": [
  {
   "cell_type": "markdown",
   "metadata": {
    "vscode": {
     "languageId": "plaintext"
    }
   },
   "source": [
    "# Exercícios SQL"
   ]
  },
  {
   "cell_type": "markdown",
   "metadata": {
    "vscode": {
     "languageId": "plaintext"
    }
   },
   "source": [
    "## Instalando as bibliotecas"
   ]
  },
  {
   "cell_type": "code",
   "execution_count": 1,
   "metadata": {
    "vscode": {
     "languageId": "plaintext"
    }
   },
   "outputs": [
    {
     "name": "stdout",
     "output_type": "stream",
     "text": [
      "Note: you may need to restart the kernel to use updated packages.\n"
     ]
    }
   ],
   "source": [
    "%pip install pandas pandasql sqlalchemy jupysql duckdb jupysql pandas matplotlib duckdb-engine ruff nbqa black isort -q"
   ]
  },
  {
   "cell_type": "markdown",
   "metadata": {},
   "source": [
    "## Preparando conexão de um banco de dados em memória para podermos usar SQL nos csvs"
   ]
  },
  {
   "cell_type": "code",
   "execution_count": 2,
   "metadata": {},
   "outputs": [],
   "source": [
    "import sqlite3\n",
    "\n",
    "import pandas as pd\n",
    "\n",
    "conn = sqlite3.connect(\":memory:\")\n",
    "\n",
    "%load_ext sql\n",
    "%sql conn"
   ]
  },
  {
   "cell_type": "markdown",
   "metadata": {},
   "source": [
    "## Criando os dataframes pandas e registrando como tabelas no SQL em memório"
   ]
  },
  {
   "cell_type": "code",
   "execution_count": 3,
   "metadata": {},
   "outputs": [
    {
     "name": "stderr",
     "output_type": "stream",
     "text": [
      "C:\\Users\\taian\\AppData\\Local\\Temp\\ipykernel_13308\\3808525090.py:1: DtypeWarning: Columns (3) have mixed types. Specify dtype option on import or set low_memory=False.\n",
      "  books_df = pd.read_csv(\"csv/Books.csv\")\n"
     ]
    },
    {
     "data": {
      "text/plain": [
       "278858"
      ]
     },
     "execution_count": 3,
     "metadata": {},
     "output_type": "execute_result"
    }
   ],
   "source": [
    "books_df = pd.read_csv(\"csv/Books.csv\")\n",
    "ratings_df = pd.read_csv(\"csv/Ratings.csv\")\n",
    "users_df = pd.read_csv(\"csv/Users.csv\")\n",
    "\n",
    "books_df.to_sql(\"books\", conn)\n",
    "ratings_df.to_sql(\"ratings\", conn)\n",
    "users_df.to_sql(\"users\", conn)"
   ]
  },
  {
   "cell_type": "markdown",
   "metadata": {},
   "source": [
    "## Exemplo de célular para query com %%sql na primeira linha da célula"
   ]
  },
  {
   "cell_type": "code",
   "execution_count": 6,
   "metadata": {},
   "outputs": [
    {
     "data": {
      "text/html": [
       "<span style=\"None\">Running query in &#x27;Connection&#x27;</span>"
      ],
      "text/plain": [
       "Running query in 'Connection'"
      ]
     },
     "metadata": {},
     "output_type": "display_data"
    },
    {
     "data": {
      "text/html": [
       "<table>\n",
       "    <thead>\n",
       "        <tr>\n",
       "            <th>index</th>\n",
       "            <th>ISBN</th>\n",
       "            <th>Book-Title</th>\n",
       "            <th>Book-Author</th>\n",
       "            <th>Year-Of-Publication</th>\n",
       "            <th>Publisher</th>\n",
       "            <th>Image-URL-S</th>\n",
       "            <th>Image-URL-M</th>\n",
       "            <th>Image-URL-L</th>\n",
       "        </tr>\n",
       "    </thead>\n",
       "    <tbody>\n",
       "        <tr>\n",
       "            <td>0</td>\n",
       "            <td>0195153448</td>\n",
       "            <td>Classical Mythology</td>\n",
       "            <td>Mark P. O. Morford</td>\n",
       "            <td>2002</td>\n",
       "            <td>Oxford University Press</td>\n",
       "            <td><a href=http://images.amazon.com/images/P/0195153448.01.THUMBZZZ.jpg>http://images.amazon.com/images/P/0195153448.01.THUMBZZZ.jpg</a></td>\n",
       "            <td><a href=http://images.amazon.com/images/P/0195153448.01.MZZZZZZZ.jpg>http://images.amazon.com/images/P/0195153448.01.MZZZZZZZ.jpg</a></td>\n",
       "            <td><a href=http://images.amazon.com/images/P/0195153448.01.LZZZZZZZ.jpg>http://images.amazon.com/images/P/0195153448.01.LZZZZZZZ.jpg</a></td>\n",
       "        </tr>\n",
       "        <tr>\n",
       "            <td>1</td>\n",
       "            <td>0002005018</td>\n",
       "            <td>Clara Callan</td>\n",
       "            <td>Richard Bruce Wright</td>\n",
       "            <td>2001</td>\n",
       "            <td>HarperFlamingo Canada</td>\n",
       "            <td><a href=http://images.amazon.com/images/P/0002005018.01.THUMBZZZ.jpg>http://images.amazon.com/images/P/0002005018.01.THUMBZZZ.jpg</a></td>\n",
       "            <td><a href=http://images.amazon.com/images/P/0002005018.01.MZZZZZZZ.jpg>http://images.amazon.com/images/P/0002005018.01.MZZZZZZZ.jpg</a></td>\n",
       "            <td><a href=http://images.amazon.com/images/P/0002005018.01.LZZZZZZZ.jpg>http://images.amazon.com/images/P/0002005018.01.LZZZZZZZ.jpg</a></td>\n",
       "        </tr>\n",
       "        <tr>\n",
       "            <td>2</td>\n",
       "            <td>0060973129</td>\n",
       "            <td>Decision in Normandy</td>\n",
       "            <td>Carlo D'Este</td>\n",
       "            <td>1991</td>\n",
       "            <td>HarperPerennial</td>\n",
       "            <td><a href=http://images.amazon.com/images/P/0060973129.01.THUMBZZZ.jpg>http://images.amazon.com/images/P/0060973129.01.THUMBZZZ.jpg</a></td>\n",
       "            <td><a href=http://images.amazon.com/images/P/0060973129.01.MZZZZZZZ.jpg>http://images.amazon.com/images/P/0060973129.01.MZZZZZZZ.jpg</a></td>\n",
       "            <td><a href=http://images.amazon.com/images/P/0060973129.01.LZZZZZZZ.jpg>http://images.amazon.com/images/P/0060973129.01.LZZZZZZZ.jpg</a></td>\n",
       "        </tr>\n",
       "        <tr>\n",
       "            <td>3</td>\n",
       "            <td>0374157065</td>\n",
       "            <td>Flu: The Story of the Great Influenza Pandemic of 1918 and the Search for the Virus That Caused It</td>\n",
       "            <td>Gina Bari Kolata</td>\n",
       "            <td>1999</td>\n",
       "            <td>Farrar Straus Giroux</td>\n",
       "            <td><a href=http://images.amazon.com/images/P/0374157065.01.THUMBZZZ.jpg>http://images.amazon.com/images/P/0374157065.01.THUMBZZZ.jpg</a></td>\n",
       "            <td><a href=http://images.amazon.com/images/P/0374157065.01.MZZZZZZZ.jpg>http://images.amazon.com/images/P/0374157065.01.MZZZZZZZ.jpg</a></td>\n",
       "            <td><a href=http://images.amazon.com/images/P/0374157065.01.LZZZZZZZ.jpg>http://images.amazon.com/images/P/0374157065.01.LZZZZZZZ.jpg</a></td>\n",
       "        </tr>\n",
       "        <tr>\n",
       "            <td>4</td>\n",
       "            <td>0393045218</td>\n",
       "            <td>The Mummies of Urumchi</td>\n",
       "            <td>E. J. W. Barber</td>\n",
       "            <td>1999</td>\n",
       "            <td>W. W. Norton &amp; Company</td>\n",
       "            <td><a href=http://images.amazon.com/images/P/0393045218.01.THUMBZZZ.jpg>http://images.amazon.com/images/P/0393045218.01.THUMBZZZ.jpg</a></td>\n",
       "            <td><a href=http://images.amazon.com/images/P/0393045218.01.MZZZZZZZ.jpg>http://images.amazon.com/images/P/0393045218.01.MZZZZZZZ.jpg</a></td>\n",
       "            <td><a href=http://images.amazon.com/images/P/0393045218.01.LZZZZZZZ.jpg>http://images.amazon.com/images/P/0393045218.01.LZZZZZZZ.jpg</a></td>\n",
       "        </tr>\n",
       "    </tbody>\n",
       "</table>"
      ],
      "text/plain": [
       "+-------+------------+----------------------------------------------------------------------------------------------------+----------------------+---------------------+----------------------------+---------------------------------------------------------------------------------------------------------------------------------------+---------------------------------------------------------------------------------------------------------------------------------------+---------------------------------------------------------------------------------------------------------------------------------------+\n",
       "| index |    ISBN    |                                             Book-Title                                             |     Book-Author      | Year-Of-Publication |         Publisher          |                                                              Image-URL-S                                                              |                                                              Image-URL-M                                                              |                                                              Image-URL-L                                                              |\n",
       "+-------+------------+----------------------------------------------------------------------------------------------------+----------------------+---------------------+----------------------------+---------------------------------------------------------------------------------------------------------------------------------------+---------------------------------------------------------------------------------------------------------------------------------------+---------------------------------------------------------------------------------------------------------------------------------------+\n",
       "|   0   | 0195153448 |                                        Classical Mythology                                         |  Mark P. O. Morford  |         2002        |  Oxford University Press   | <a href=http://images.amazon.com/images/P/0195153448.01.THUMBZZZ.jpg>http://images.amazon.com/images/P/0195153448.01.THUMBZZZ.jpg</a> | <a href=http://images.amazon.com/images/P/0195153448.01.MZZZZZZZ.jpg>http://images.amazon.com/images/P/0195153448.01.MZZZZZZZ.jpg</a> | <a href=http://images.amazon.com/images/P/0195153448.01.LZZZZZZZ.jpg>http://images.amazon.com/images/P/0195153448.01.LZZZZZZZ.jpg</a> |\n",
       "|   1   | 0002005018 |                                            Clara Callan                                            | Richard Bruce Wright |         2001        |   HarperFlamingo Canada    | <a href=http://images.amazon.com/images/P/0002005018.01.THUMBZZZ.jpg>http://images.amazon.com/images/P/0002005018.01.THUMBZZZ.jpg</a> | <a href=http://images.amazon.com/images/P/0002005018.01.MZZZZZZZ.jpg>http://images.amazon.com/images/P/0002005018.01.MZZZZZZZ.jpg</a> | <a href=http://images.amazon.com/images/P/0002005018.01.LZZZZZZZ.jpg>http://images.amazon.com/images/P/0002005018.01.LZZZZZZZ.jpg</a> |\n",
       "|   2   | 0060973129 |                                        Decision in Normandy                                        |     Carlo D'Este     |         1991        |      HarperPerennial       | <a href=http://images.amazon.com/images/P/0060973129.01.THUMBZZZ.jpg>http://images.amazon.com/images/P/0060973129.01.THUMBZZZ.jpg</a> | <a href=http://images.amazon.com/images/P/0060973129.01.MZZZZZZZ.jpg>http://images.amazon.com/images/P/0060973129.01.MZZZZZZZ.jpg</a> | <a href=http://images.amazon.com/images/P/0060973129.01.LZZZZZZZ.jpg>http://images.amazon.com/images/P/0060973129.01.LZZZZZZZ.jpg</a> |\n",
       "|   3   | 0374157065 | Flu: The Story of the Great Influenza Pandemic of 1918 and the Search for the Virus That Caused It |   Gina Bari Kolata   |         1999        |    Farrar Straus Giroux    | <a href=http://images.amazon.com/images/P/0374157065.01.THUMBZZZ.jpg>http://images.amazon.com/images/P/0374157065.01.THUMBZZZ.jpg</a> | <a href=http://images.amazon.com/images/P/0374157065.01.MZZZZZZZ.jpg>http://images.amazon.com/images/P/0374157065.01.MZZZZZZZ.jpg</a> | <a href=http://images.amazon.com/images/P/0374157065.01.LZZZZZZZ.jpg>http://images.amazon.com/images/P/0374157065.01.LZZZZZZZ.jpg</a> |\n",
       "|   4   | 0393045218 |                                       The Mummies of Urumchi                                       |   E. J. W. Barber    |         1999        | W. W. Norton & Company | <a href=http://images.amazon.com/images/P/0393045218.01.THUMBZZZ.jpg>http://images.amazon.com/images/P/0393045218.01.THUMBZZZ.jpg</a> | <a href=http://images.amazon.com/images/P/0393045218.01.MZZZZZZZ.jpg>http://images.amazon.com/images/P/0393045218.01.MZZZZZZZ.jpg</a> | <a href=http://images.amazon.com/images/P/0393045218.01.LZZZZZZZ.jpg>http://images.amazon.com/images/P/0393045218.01.LZZZZZZZ.jpg</a> |\n",
       "+-------+------------+----------------------------------------------------------------------------------------------------+----------------------+---------------------+----------------------------+---------------------------------------------------------------------------------------------------------------------------------------+---------------------------------------------------------------------------------------------------------------------------------------+---------------------------------------------------------------------------------------------------------------------------------------+"
      ]
     },
     "execution_count": 6,
     "metadata": {},
     "output_type": "execute_result"
    }
   ],
   "source": [
    "%%sql\n",
    "select * from books limit 5"
   ]
  }
 ],
 "metadata": {
  "kernelspec": {
   "display_name": "Python 3 (ipykernel)",
   "language": "python",
   "name": "python3"
  },
  "language_info": {
   "codemirror_mode": {
    "name": "ipython",
    "version": 3
   },
   "file_extension": ".py",
   "mimetype": "text/x-python",
   "name": "python",
   "nbconvert_exporter": "python",
   "pygments_lexer": "ipython3",
   "version": "3.8.17"
  },
  "widgets": {
   "application/vnd.jupyter.widget-state+json": {
    "state": {},
    "version_major": 2,
    "version_minor": 0
   }
  }
 },
 "nbformat": 4,
 "nbformat_minor": 4
}
